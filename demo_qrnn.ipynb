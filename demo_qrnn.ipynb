{
 "cells": [
  {
   "cell_type": "code",
   "execution_count": 18,
   "metadata": {},
   "outputs": [],
   "source": [
    "from qrnn import get_model, Qloss, qloss\n",
    "from keras.callbacks import *\n",
    "import numpy as np\n",
    "\n",
    "# Generate the synthetic data\n",
    "x1 = np.sin(np.arange(0, 9, 0.01))\n",
    "x2 = np.cos(np.arange(0, 9, 0.01))\n",
    "x3 = x1**2\n",
    "x4 = (x1+x2)/2\n",
    "\n",
    "Xtrain = np.vstack((x2, x3, x4)).T #(900, 3)\n",
    "Ytrain = np.array([x1]*1).T #(900, 1)"
   ]
  },
  {
   "cell_type": "code",
   "execution_count": 20,
   "metadata": {
    "scrolled": false
   },
   "outputs": [
    {
     "name": "stdout",
     "output_type": "stream",
     "text": [
      "Model: \"functional_15\"\n",
      "_________________________________________________________________\n",
      "Layer (type)                 Output Shape              Param #   \n",
      "=================================================================\n",
      "input (InputLayer)           [(None, 3)]               0         \n",
      "_________________________________________________________________\n",
      "dense_21 (Dense)             (None, 200)               800       \n",
      "_________________________________________________________________\n",
      "dropout_14 (Dropout)         (None, 200)               0         \n",
      "_________________________________________________________________\n",
      "gaussian_noise_14 (GaussianN (None, 200)               0         \n",
      "_________________________________________________________________\n",
      "dense_22 (Dense)             (None, 200)               40200     \n",
      "_________________________________________________________________\n",
      "dropout_15 (Dropout)         (None, 200)               0         \n",
      "_________________________________________________________________\n",
      "gaussian_noise_15 (GaussianN (None, 200)               0         \n",
      "_________________________________________________________________\n",
      "dense_23 (Dense)             (None, 99)                19899     \n",
      "=================================================================\n",
      "Total params: 60,899\n",
      "Trainable params: 60,899\n",
      "Non-trainable params: 0\n",
      "_________________________________________________________________\n",
      "None\n",
      "Epoch 1/10\n",
      "12/12 [==============================] - 0s 9ms/step - loss: 1.1897 - qloss_score: 0.3829 - val_loss: 1.0236 - val_qloss_score: 0.2474\n",
      "Epoch 2/10\n",
      "12/12 [==============================] - 0s 3ms/step - loss: 1.0073 - qloss_score: 0.2531 - val_loss: 0.9043 - val_qloss_score: 0.1774\n",
      "Epoch 3/10\n",
      "12/12 [==============================] - 0s 2ms/step - loss: 0.9194 - qloss_score: 0.2132 - val_loss: 0.8067 - val_qloss_score: 0.1255\n",
      "Epoch 4/10\n",
      "12/12 [==============================] - 0s 3ms/step - loss: 0.8460 - qloss_score: 0.1826 - val_loss: 0.7300 - val_qloss_score: 0.0900\n",
      "Epoch 5/10\n",
      "12/12 [==============================] - 0s 3ms/step - loss: 0.7886 - qloss_score: 0.1663 - val_loss: 0.6720 - val_qloss_score: 0.0699\n",
      "Epoch 6/10\n",
      "12/12 [==============================] - 0s 3ms/step - loss: 0.7403 - qloss_score: 0.1537 - val_loss: 0.6292 - val_qloss_score: 0.0621\n",
      "Epoch 7/10\n",
      "12/12 [==============================] - 0s 2ms/step - loss: 0.6987 - qloss_score: 0.1453 - val_loss: 0.5919 - val_qloss_score: 0.0565\n",
      "Epoch 8/10\n",
      "12/12 [==============================] - 0s 2ms/step - loss: 0.6606 - qloss_score: 0.1376 - val_loss: 0.5586 - val_qloss_score: 0.0519\n",
      "Epoch 9/10\n",
      "12/12 [==============================] - 0s 3ms/step - loss: 0.6273 - qloss_score: 0.1319 - val_loss: 0.5316 - val_qloss_score: 0.0511\n",
      "Epoch 10/10\n",
      "12/12 [==============================] - 0s 3ms/step - loss: 0.5970 - qloss_score: 0.1270 - val_loss: 0.5068 - val_qloss_score: 0.0498\n"
     ]
    },
    {
     "data": {
      "text/plain": [
       "<tensorflow.python.keras.callbacks.History at 0x7fca1b4b4ee0>"
      ]
     },
     "execution_count": 20,
     "metadata": {},
     "output_type": "execute_result"
    }
   ],
   "source": [
    "# Parameters\n",
    "input_dim = 3\n",
    "num_hidden_layers = 2\n",
    "num_units = [200, 200]\n",
    "act = ['relu', 'relu']\n",
    "dropout = [0.1, 0.1]\n",
    "gauss_std = [0.3, 0.3]\n",
    "\n",
    "# Get model\n",
    "model = get_model(input_dim, num_units, act, dropout, gauss_std, num_hidden_layers)\n",
    "print(model.summary())\n",
    "\n",
    "# Train\n",
    "early_stopping = EarlyStopping(monitor='val_qloss_score', patience=5)\n",
    "model.compile(loss=qloss, optimizer='adam', metrics=[Qloss()])\n",
    "model.fit(x=Xtrain, y=Ytrain, \n",
    "          epochs=10, \n",
    "          validation_split=0.2, \n",
    "          batch_size=64, \n",
    "          shuffle=True, \n",
    "          callbacks=[early_stopping]\n",
    "         )"
   ]
  },
  {
   "cell_type": "code",
   "execution_count": null,
   "metadata": {},
   "outputs": [],
   "source": []
  }
 ],
 "metadata": {
  "kernelspec": {
   "display_name": "Python 3",
   "language": "python",
   "name": "python3"
  },
  "language_info": {
   "codemirror_mode": {
    "name": "ipython",
    "version": 3
   },
   "file_extension": ".py",
   "mimetype": "text/x-python",
   "name": "python",
   "nbconvert_exporter": "python",
   "pygments_lexer": "ipython3",
   "version": "3.8.5"
  }
 },
 "nbformat": 4,
 "nbformat_minor": 2
}
