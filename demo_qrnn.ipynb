{
 "cells": [
  {
   "cell_type": "code",
   "execution_count": 3,
   "metadata": {},
   "outputs": [],
   "source": [
    "from qrnn import get_model\n",
    "import numpy as np\n",
    "\n",
    "# Generate the synthetic data\n",
    "x1 = np.sin(np.arange(0, 9, 0.01))\n",
    "x2 = np.cos(np.arange(0, 9, 0.01))\n",
    "x3 = x1**2\n",
    "x4 = (x1+x2)/2\n",
    "\n",
    "Xtrain = np.vstack((x2, x3, x4)).T\n",
    "Ytrain = np.array([x1]*99).T"
   ]
  },
  {
   "cell_type": "code",
   "execution_count": 4,
   "metadata": {
    "scrolled": false
   },
   "outputs": [
    {
     "name": "stdout",
     "output_type": "stream",
     "text": [
      "Epoch 1/10\n",
      "900/900 [==============================] - 1s 628us/step - loss: 0.7032 - accuracy: 0.0000e+00\n",
      "Epoch 2/10\n",
      "900/900 [==============================] - 0s 112us/step - loss: 0.5414 - accuracy: 0.0000e+00\n",
      "Epoch 3/10\n",
      "900/900 [==============================] - 0s 119us/step - loss: 0.4887 - accuracy: 0.0000e+00\n",
      "Epoch 4/10\n",
      "900/900 [==============================] - 0s 113us/step - loss: 0.4586 - accuracy: 0.0000e+00\n",
      "Epoch 5/10\n",
      "900/900 [==============================] - 0s 115us/step - loss: 0.4352 - accuracy: 0.0000e+00\n",
      "Epoch 6/10\n",
      "900/900 [==============================] - 0s 117us/step - loss: 0.4127 - accuracy: 0.0000e+00\n",
      "Epoch 7/10\n",
      "900/900 [==============================] - 0s 115us/step - loss: 0.3918 - accuracy: 0.0000e+00\n",
      "Epoch 8/10\n",
      "900/900 [==============================] - 0s 114us/step - loss: 0.3726 - accuracy: 0.0000e+00\n",
      "Epoch 9/10\n",
      "900/900 [==============================] - 0s 113us/step - loss: 0.3541 - accuracy: 0.0000e+00\n",
      "Epoch 10/10\n",
      "900/900 [==============================] - 0s 114us/step - loss: 0.3364 - accuracy: 0.0000e+00\n"
     ]
    },
    {
     "data": {
      "text/plain": [
       "<keras.callbacks.callbacks.History at 0x10644ef98>"
      ]
     },
     "execution_count": 4,
     "metadata": {},
     "output_type": "execute_result"
    }
   ],
   "source": [
    "# Parameters\n",
    "input_dim = 3\n",
    "num_hidden_layers = 1\n",
    "num_units = [200]\n",
    "act = ['relu']\n",
    "gauss_std = 0.3\n",
    "\n",
    "# Get model\n",
    "model = get_model(input_dim, num_units, act, gauss_std, num_hidden_layers)\n",
    "\n",
    "# Train\n",
    "model.fit(x=Xtrain, y=Ytrain, epochs=10)"
   ]
  },
  {
   "cell_type": "code",
   "execution_count": null,
   "metadata": {},
   "outputs": [],
   "source": []
  }
 ],
 "metadata": {
  "kernelspec": {
   "display_name": "Python 3",
   "language": "python",
   "name": "python3"
  },
  "language_info": {
   "codemirror_mode": {
    "name": "ipython",
    "version": 3
   },
   "file_extension": ".py",
   "mimetype": "text/x-python",
   "name": "python",
   "nbconvert_exporter": "python",
   "pygments_lexer": "ipython3",
   "version": "3.7.3"
  }
 },
 "nbformat": 4,
 "nbformat_minor": 2
}
