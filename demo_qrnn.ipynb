{
 "cells": [
  {
   "cell_type": "code",
   "execution_count": 1,
   "metadata": {},
   "outputs": [
    {
     "name": "stderr",
     "output_type": "stream",
     "text": [
      "Using TensorFlow backend.\n"
     ]
    }
   ],
   "source": [
    "from qrnn import get_model\n",
    "import numpy as np\n",
    "\n",
    "# Generate the synthetic data\n",
    "x1 = np.sin(np.arange(0, 9, 0.01))\n",
    "x2 = np.cos(np.arange(0, 9, 0.01))\n",
    "x3 = x1**2\n",
    "x4 = (x1+x2)/2\n",
    "\n",
    "Xtrain = np.vstack((x2, x3, x4)).T\n",
    "Ytrain = np.array([x1]*99).T"
   ]
  },
  {
   "cell_type": "code",
   "execution_count": 2,
   "metadata": {
    "scrolled": false
   },
   "outputs": [
    {
     "name": "stdout",
     "output_type": "stream",
     "text": [
      "Epoch 1/10\n",
      "900/900 [==============================] - 1s 672us/step - loss: 0.7303 - accuracy: 0.0000e+00\n",
      "Epoch 2/10\n",
      "900/900 [==============================] - 0s 128us/step - loss: 0.5537 - accuracy: 0.0000e+00\n",
      "Epoch 3/10\n",
      "900/900 [==============================] - 0s 117us/step - loss: 0.5020 - accuracy: 0.0000e+00\n",
      "Epoch 4/10\n",
      "900/900 [==============================] - 0s 117us/step - loss: 0.4703 - accuracy: 0.0000e+00\n",
      "Epoch 5/10\n",
      "900/900 [==============================] - 0s 115us/step - loss: 0.4436 - accuracy: 0.0000e+00\n",
      "Epoch 6/10\n",
      "900/900 [==============================] - 0s 110us/step - loss: 0.4206 - accuracy: 0.0000e+00\n",
      "Epoch 7/10\n",
      "900/900 [==============================] - 0s 114us/step - loss: 0.3990 - accuracy: 0.0000e+00\n",
      "Epoch 8/10\n",
      "900/900 [==============================] - 0s 120us/step - loss: 0.3802 - accuracy: 0.0000e+00\n",
      "Epoch 9/10\n",
      "900/900 [==============================] - 0s 117us/step - loss: 0.3608 - accuracy: 0.0000e+00\n",
      "Epoch 10/10\n",
      "900/900 [==============================] - 0s 121us/step - loss: 0.3434 - accuracy: 0.0000e+00\n"
     ]
    },
    {
     "data": {
      "text/plain": [
       "<keras.callbacks.callbacks.History at 0x106473668>"
      ]
     },
     "execution_count": 2,
     "metadata": {},
     "output_type": "execute_result"
    }
   ],
   "source": [
    "# Parameters\n",
    "input_dim = 3\n",
    "num_hidden_layers = 1\n",
    "num_units = [200]\n",
    "act = ['relu']\n",
    "gauss_std = 0.3\n",
    "\n",
    "# Get model\n",
    "model = get_model(input_dim, num_units, act, gauss_std, num_hidden_layers)\n",
    "\n",
    "# Train\n",
    "model.fit(x=Xtrain, y=Ytrain, epochs=10)"
   ]
  },
  {
   "cell_type": "code",
   "execution_count": null,
   "metadata": {},
   "outputs": [],
   "source": []
  }
 ],
 "metadata": {
  "kernelspec": {
   "display_name": "Python 3",
   "language": "python",
   "name": "python3"
  },
  "language_info": {
   "codemirror_mode": {
    "name": "ipython",
    "version": 3
   },
   "file_extension": ".py",
   "mimetype": "text/x-python",
   "name": "python",
   "nbconvert_exporter": "python",
   "pygments_lexer": "ipython3",
   "version": "3.7.3"
  }
 },
 "nbformat": 4,
 "nbformat_minor": 2
}
