{
 "cells": [
  {
   "cell_type": "code",
   "execution_count": 1,
   "metadata": {},
   "outputs": [],
   "source": [
    "from qrnn import get_model, qloss\n",
    "from keras.callbacks import *\n",
    "import numpy as np\n",
    "\n",
    "# Generate the synthetic data\n",
    "x1 = np.sin(np.arange(0, 9, 0.01))\n",
    "x2 = np.cos(np.arange(0, 9, 0.01))\n",
    "x3 = x1**2\n",
    "x4 = (x1+x2)/2\n",
    "\n",
    "Xtrain = np.vstack((x2, x3, x4)).T #(900, 3)\n",
    "Ytrain = np.array([x1]*1).T #(900, 1)"
   ]
  },
  {
   "cell_type": "code",
   "execution_count": 2,
   "metadata": {},
   "outputs": [],
   "source": [
    "# Parameters\n",
    "input_dim = 3\n",
    "num_hidden_layers = 2\n",
    "num_units = [200, 200]\n",
    "act = ['relu', 'relu']\n",
    "dropout = [0.1, 0.1]\n",
    "gauss_std = [0.3, 0.3]\n",
    "num_quantiles = 9"
   ]
  },
  {
   "cell_type": "code",
   "execution_count": 3,
   "metadata": {
    "scrolled": false
   },
   "outputs": [
    {
     "name": "stdout",
     "output_type": "stream",
     "text": [
      "Model: \"functional_1\"\n",
      "_________________________________________________________________\n",
      "Layer (type)                 Output Shape              Param #   \n",
      "=================================================================\n",
      "input (InputLayer)           [(None, 3)]               0         \n",
      "_________________________________________________________________\n",
      "dense (Dense)                (None, 200)               800       \n",
      "_________________________________________________________________\n",
      "dropout (Dropout)            (None, 200)               0         \n",
      "_________________________________________________________________\n",
      "gaussian_noise (GaussianNois (None, 200)               0         \n",
      "_________________________________________________________________\n",
      "dense_1 (Dense)              (None, 200)               40200     \n",
      "_________________________________________________________________\n",
      "dropout_1 (Dropout)          (None, 200)               0         \n",
      "_________________________________________________________________\n",
      "gaussian_noise_1 (GaussianNo (None, 200)               0         \n",
      "_________________________________________________________________\n",
      "dense_2 (Dense)              (None, 9)                 1809      \n",
      "=================================================================\n",
      "Total params: 42,809\n",
      "Trainable params: 42,809\n",
      "Non-trainable params: 0\n",
      "_________________________________________________________________\n",
      "None\n",
      "Epoch 1/10\n",
      "12/12 [==============================] - 0s 9ms/step - loss: 1.1470 - val_loss: 0.9544\n",
      "Epoch 2/10\n",
      "12/12 [==============================] - 0s 3ms/step - loss: 1.0042 - val_loss: 0.8509\n",
      "Epoch 3/10\n",
      "12/12 [==============================] - 0s 2ms/step - loss: 0.9388 - val_loss: 0.7919\n",
      "Epoch 4/10\n",
      "12/12 [==============================] - 0s 2ms/step - loss: 0.8886 - val_loss: 0.7688\n",
      "Epoch 5/10\n",
      "12/12 [==============================] - 0s 2ms/step - loss: 0.8427 - val_loss: 0.7245\n",
      "Epoch 6/10\n",
      "12/12 [==============================] - 0s 2ms/step - loss: 0.8041 - val_loss: 0.6916\n",
      "Epoch 7/10\n",
      "12/12 [==============================] - 0s 2ms/step - loss: 0.7713 - val_loss: 0.6638\n",
      "Epoch 8/10\n",
      "12/12 [==============================] - 0s 2ms/step - loss: 0.7423 - val_loss: 0.6265\n",
      "Epoch 9/10\n",
      "12/12 [==============================] - 0s 3ms/step - loss: 0.7108 - val_loss: 0.6200\n",
      "Epoch 10/10\n",
      "12/12 [==============================] - 0s 2ms/step - loss: 0.6822 - val_loss: 0.5865\n"
     ]
    },
    {
     "data": {
      "text/plain": [
       "<tensorflow.python.keras.callbacks.History at 0x7ffe97a92bb0>"
      ]
     },
     "execution_count": 3,
     "metadata": {},
     "output_type": "execute_result"
    }
   ],
   "source": [
    "# Get model\n",
    "model = get_model(input_dim, num_units, act, dropout, gauss_std, num_hidden_layers, num_quantiles)\n",
    "print(model.summary())\n",
    "\n",
    "# Train\n",
    "early_stopping = EarlyStopping(monitor='val_loss', patience=5)\n",
    "model.compile(loss=lambda y_t, y_p: qloss(y_true=y_t, y_pred=y_p, n_q=num_quantiles), \n",
    "              optimizer='adam')\n",
    "model.fit(x=Xtrain, y=Ytrain, \n",
    "          epochs=10, \n",
    "          validation_split=0.2, \n",
    "          batch_size=64, \n",
    "          shuffle=True, \n",
    "          callbacks=[early_stopping]\n",
    "         )"
   ]
  },
  {
   "cell_type": "code",
   "execution_count": null,
   "metadata": {},
   "outputs": [],
   "source": []
  }
 ],
 "metadata": {
  "kernelspec": {
   "display_name": "Python 3",
   "language": "python",
   "name": "python3"
  },
  "language_info": {
   "codemirror_mode": {
    "name": "ipython",
    "version": 3
   },
   "file_extension": ".py",
   "mimetype": "text/x-python",
   "name": "python",
   "nbconvert_exporter": "python",
   "pygments_lexer": "ipython3",
   "version": "3.8.5"
  }
 },
 "nbformat": 4,
 "nbformat_minor": 2
}
