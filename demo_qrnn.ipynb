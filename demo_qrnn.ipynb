{
 "cells": [
  {
   "cell_type": "code",
   "execution_count": 3,
   "metadata": {},
   "outputs": [],
   "source": [
    "from qrnn import get_model\n",
    "import numpy as np\n",
    "\n",
    "# Generate the synthetic data\n",
    "x1 = np.sin(np.arange(0, 9, 0.01))\n",
    "x2 = np.cos(np.arange(0, 9, 0.01))\n",
    "x3 = x1**2\n",
    "x4 = (x1+x2)/2\n",
    "\n",
    "Xtrain = np.vstack((x2, x3, x4)).T\n",
    "Ytrain = np.array([x1]*1).T"
   ]
  },
  {
   "cell_type": "code",
   "execution_count": 4,
   "metadata": {
    "scrolled": false
   },
   "outputs": [
    {
     "name": "stdout",
     "output_type": "stream",
     "text": [
      "Epoch 1/10\n",
      "29/29 [==============================] - 0s 858us/step - loss: 0.7268 - accuracy: 0.0000e+00\n",
      "Epoch 2/10\n",
      "29/29 [==============================] - 0s 770us/step - loss: 0.5494 - accuracy: 0.0000e+00\n",
      "Epoch 3/10\n",
      "29/29 [==============================] - 0s 736us/step - loss: 0.4980 - accuracy: 0.0000e+00\n",
      "Epoch 4/10\n",
      "29/29 [==============================] - 0s 804us/step - loss: 0.4662 - accuracy: 0.0000e+00\n",
      "Epoch 5/10\n",
      "29/29 [==============================] - 0s 730us/step - loss: 0.4427 - accuracy: 0.0000e+00\n",
      "Epoch 6/10\n",
      "29/29 [==============================] - 0s 759us/step - loss: 0.4190 - accuracy: 0.0000e+00\n",
      "Epoch 7/10\n",
      "29/29 [==============================] - 0s 682us/step - loss: 0.3993 - accuracy: 0.0000e+00\n",
      "Epoch 8/10\n",
      "29/29 [==============================] - 0s 720us/step - loss: 0.3797 - accuracy: 0.0000e+00\n",
      "Epoch 9/10\n",
      "29/29 [==============================] - 0s 807us/step - loss: 0.3617 - accuracy: 0.0000e+00\n",
      "Epoch 10/10\n",
      "29/29 [==============================] - 0s 694us/step - loss: 0.3435 - accuracy: 0.0000e+00\n"
     ]
    },
    {
     "data": {
      "text/plain": [
       "<tensorflow.python.keras.callbacks.History at 0x7f8d82856220>"
      ]
     },
     "execution_count": 4,
     "metadata": {},
     "output_type": "execute_result"
    }
   ],
   "source": [
    "# Parameters\n",
    "input_dim = 3\n",
    "num_hidden_layers = 1\n",
    "num_units = [200]\n",
    "act = ['relu']\n",
    "gauss_std = 0.3\n",
    "\n",
    "# Get model\n",
    "model = get_model(input_dim, num_units, act, gauss_std, num_hidden_layers)\n",
    "\n",
    "# Train\n",
    "model.fit(x=Xtrain, y=Ytrain, epochs=10)"
   ]
  },
  {
   "cell_type": "code",
   "execution_count": null,
   "metadata": {},
   "outputs": [],
   "source": []
  }
 ],
 "metadata": {
  "kernelspec": {
   "display_name": "Python 3",
   "language": "python",
   "name": "python3"
  },
  "language_info": {
   "codemirror_mode": {
    "name": "ipython",
    "version": 3
   },
   "file_extension": ".py",
   "mimetype": "text/x-python",
   "name": "python",
   "nbconvert_exporter": "python",
   "pygments_lexer": "ipython3",
   "version": "3.8.5"
  }
 },
 "nbformat": 4,
 "nbformat_minor": 2
}
