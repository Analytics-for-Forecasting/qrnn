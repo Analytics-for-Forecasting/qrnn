{
 "cells": [
  {
   "cell_type": "code",
   "execution_count": 3,
   "metadata": {},
   "outputs": [],
   "source": [
    "from qrnn import get_model, Qloss, qloss\n",
    "from keras.callbacks import *\n",
    "import numpy as np\n",
    "\n",
    "# Generate the synthetic data\n",
    "x1 = np.sin(np.arange(0, 9, 0.01))\n",
    "x2 = np.cos(np.arange(0, 9, 0.01))\n",
    "x3 = x1**2\n",
    "x4 = (x1+x2)/2\n",
    "\n",
    "Xtrain = np.vstack((x2, x3, x4)).T #(900, 3)\n",
    "Ytrain = np.array([x1]*1).T #(900, 1)"
   ]
  },
  {
   "cell_type": "code",
   "execution_count": 4,
   "metadata": {},
   "outputs": [],
   "source": [
    "# Parameters\n",
    "input_dim = 3\n",
    "num_hidden_layers = 2\n",
    "num_units = [200, 200]\n",
    "act = ['relu', 'relu']\n",
    "dropout = [0.1, 0.1]\n",
    "gauss_std = [0.3, 0.3]\n",
    "num_quantiles = 9"
   ]
  },
  {
   "cell_type": "code",
   "execution_count": 5,
   "metadata": {
    "scrolled": false
   },
   "outputs": [
    {
     "name": "stdout",
     "output_type": "stream",
     "text": [
      "Model: \"functional_3\"\n",
      "_________________________________________________________________\n",
      "Layer (type)                 Output Shape              Param #   \n",
      "=================================================================\n",
      "input (InputLayer)           [(None, 3)]               0         \n",
      "_________________________________________________________________\n",
      "dense_3 (Dense)              (None, 200)               800       \n",
      "_________________________________________________________________\n",
      "dropout_2 (Dropout)          (None, 200)               0         \n",
      "_________________________________________________________________\n",
      "gaussian_noise_2 (GaussianNo (None, 200)               0         \n",
      "_________________________________________________________________\n",
      "dense_4 (Dense)              (None, 200)               40200     \n",
      "_________________________________________________________________\n",
      "dropout_3 (Dropout)          (None, 200)               0         \n",
      "_________________________________________________________________\n",
      "gaussian_noise_3 (GaussianNo (None, 200)               0         \n",
      "_________________________________________________________________\n",
      "dense_5 (Dense)              (None, 9)                 1809      \n",
      "=================================================================\n",
      "Total params: 42,809\n",
      "Trainable params: 42,809\n",
      "Non-trainable params: 0\n",
      "_________________________________________________________________\n",
      "None\n",
      "Epoch 1/10\n",
      "12/12 [==============================] - 0s 8ms/step - loss: 1.1420 - qloss_score: 0.3414 - val_loss: 0.9683 - val_qloss_score: 0.1889\n",
      "Epoch 2/10\n",
      "12/12 [==============================] - 0s 3ms/step - loss: 1.0072 - qloss_score: 0.2398 - val_loss: 0.8840 - val_qloss_score: 0.1360\n",
      "Epoch 3/10\n",
      "12/12 [==============================] - 0s 2ms/step - loss: 0.9448 - qloss_score: 0.2089 - val_loss: 0.8132 - val_qloss_score: 0.0935\n",
      "Epoch 4/10\n",
      "12/12 [==============================] - 0s 2ms/step - loss: 0.8983 - qloss_score: 0.1913 - val_loss: 0.7754 - val_qloss_score: 0.0851\n",
      "Epoch 5/10\n",
      "12/12 [==============================] - 0s 2ms/step - loss: 0.8558 - qloss_score: 0.1780 - val_loss: 0.7501 - val_qloss_score: 0.0884\n",
      "Epoch 6/10\n",
      "12/12 [==============================] - 0s 2ms/step - loss: 0.8185 - qloss_score: 0.1680 - val_loss: 0.7178 - val_qloss_score: 0.0814\n",
      "Epoch 7/10\n",
      "12/12 [==============================] - 0s 2ms/step - loss: 0.7880 - qloss_score: 0.1621 - val_loss: 0.6863 - val_qloss_score: 0.0762\n",
      "Epoch 8/10\n",
      "12/12 [==============================] - 0s 2ms/step - loss: 0.7543 - qloss_score: 0.1544 - val_loss: 0.6516 - val_qloss_score: 0.0656\n",
      "Epoch 9/10\n",
      "12/12 [==============================] - 0s 2ms/step - loss: 0.7237 - qloss_score: 0.1479 - val_loss: 0.6343 - val_qloss_score: 0.0718\n",
      "Epoch 10/10\n",
      "12/12 [==============================] - 0s 3ms/step - loss: 0.6987 - qloss_score: 0.1443 - val_loss: 0.5932 - val_qloss_score: 0.0511\n"
     ]
    },
    {
     "data": {
      "text/plain": [
       "<tensorflow.python.keras.callbacks.History at 0x7fb56b6358e0>"
      ]
     },
     "execution_count": 5,
     "metadata": {},
     "output_type": "execute_result"
    }
   ],
   "source": [
    "# Get model\n",
    "model = get_model(input_dim, num_units, act, dropout, gauss_std, num_hidden_layers, num_quantiles)\n",
    "print(model.summary())\n",
    "\n",
    "# Train\n",
    "early_stopping = EarlyStopping(monitor='val_qloss_score', patience=5)\n",
    "model.compile(loss=lambda y_t, y_p: qloss(y_true=y_t, y_pred=y_p, n_q=num_quantiles), optimizer='adam', metrics=[Qloss(num_quantiles)])\n",
    "model.fit(x=Xtrain, y=Ytrain, \n",
    "          epochs=10, \n",
    "          validation_split=0.2, \n",
    "          batch_size=64, \n",
    "          shuffle=True, \n",
    "          callbacks=[early_stopping]\n",
    "         )"
   ]
  },
  {
   "cell_type": "code",
   "execution_count": null,
   "metadata": {},
   "outputs": [],
   "source": []
  }
 ],
 "metadata": {
  "kernelspec": {
   "display_name": "Python 3",
   "language": "python",
   "name": "python3"
  },
  "language_info": {
   "codemirror_mode": {
    "name": "ipython",
    "version": 3
   },
   "file_extension": ".py",
   "mimetype": "text/x-python",
   "name": "python",
   "nbconvert_exporter": "python",
   "pygments_lexer": "ipython3",
   "version": "3.8.5"
  }
 },
 "nbformat": 4,
 "nbformat_minor": 2
}
